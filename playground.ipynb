{
 "cells": [
  {
   "cell_type": "markdown",
   "metadata": {},
   "source": [
    "# Playground for ASFPy module development"
   ]
  },
  {
   "cell_type": "code",
   "execution_count": 47,
   "metadata": {},
   "outputs": [],
   "source": [
    "import os\n",
    "import csv\n",
    "import random\n",
    "import operator\n",
    "from copy import deepcopy\n",
    "\n",
    "from asfpy import asfpy"
   ]
  },
  {
   "cell_type": "code",
   "execution_count": 48,
   "metadata": {},
   "outputs": [],
   "source": [
    "from pathlib import Path\n",
    "\n",
    "FOLDER = \"asfp2020\"\n",
    "EDITORS_FILE = \"processed-editors-list-draft.csv\"\n",
    "APPLICANTS_FILE = \"processed-applicants-list-draft.csv\"\n",
    "MATCHINGS_FILE = \"matchings-list-draft.csv\"\n",
    "\n",
    "path = Path(\"__file__\").parent.absolute()\n",
    "\n",
    "editors_filename = path.parent.joinpath(FOLDER).joinpath(EDITORS_FILE)\n",
    "editors = asfpy.read_preprocessed_editors_list_csv(editors_filename)\n",
    "\n",
    "applicants_filename = path.parent.joinpath(FOLDER).joinpath(APPLICANTS_FILE)\n",
    "applicants = asfpy.read_preprocessed_applicants_list_csv(applicants_filename)\n",
    "\n",
    "matchings_filename = path.parent.joinpath(FOLDER).joinpath(MATCHINGS_FILE)"
   ]
  },
  {
   "cell_type": "code",
   "execution_count": 51,
   "metadata": {
    "scrolled": true
   },
   "outputs": [],
   "source": [
    "_editors = deepcopy(editors)\n",
    "_applicants = deepcopy(asfpy.randomize(applicants))\n",
    "\n",
    "p_applicants = asfpy.prioritize(_applicants, rank_method = asfpy.asfp_rank)\n",
    "\n",
    "allocation_output = asfpy.allocate(p_applicants, _editors)"
   ]
  },
  {
   "cell_type": "markdown",
   "metadata": {},
   "source": [
    "# Allocation Output Handling\n",
    "\n",
    "The output from running the allocation method includes a list of matchings, a list of unmatched applicants by identifier strings, and a list of editors _after_ decrementing capacities."
   ]
  },
  {
   "cell_type": "markdown",
   "metadata": {},
   "source": [
    "## Handle saving matchings"
   ]
  },
  {
   "cell_type": "code",
   "execution_count": 52,
   "metadata": {
    "scrolled": false
   },
   "outputs": [
    {
     "name": "stdout",
     "output_type": "stream",
     "text": [
      "Number of matchings:  97\n",
      "Number of unmatched:  41\n",
      "Capacity left by editors:  34\n"
     ]
    }
   ],
   "source": [
    "matchings = allocation_output[\"matchings\"]\n",
    "dyads = asfpy.format_matchings(matchings, applicants, editors)\n",
    "\n",
    "asfpy.write_list_to_csv(dyads, matchings_filename)\n",
    "\n",
    "print(\"Number of matchings: \", len(allocation_output[\"matchings\"]))\n",
    "print(\"Number of unmatched: \", len(allocation_output[\"unmatched\"]))\n",
    "print(\"Capacity left by editors: \", asfpy.capacity(allocation_output[\"editors\"]))"
   ]
  },
  {
   "cell_type": "markdown",
   "metadata": {},
   "source": [
    "## New editors by capacity and unmatched applicants\n",
    "\n",
    "This pattern should be used to re-run the allocation for a given set of editors and applicants. In particular, this would be re-run _if_ editors increase capacity. The applicants remain in the same priority ordering from the first allocation by using `p_applicants`."
   ]
  },
  {
   "cell_type": "code",
   "execution_count": 56,
   "metadata": {
    "scrolled": false
   },
   "outputs": [
    {
     "data": {
      "text/plain": [
       "[]"
      ]
     },
     "execution_count": 56,
     "metadata": {},
     "output_type": "execute_result"
    }
   ],
   "source": [
    "new_capacity_editors = allocation_output[\"editors\"]\n",
    "unmatched_ids = allocation_output[\"unmatched\"]\n",
    "## Use p_applicants to keep rank order\n",
    "unmatched_applicants = asfpy.compile_unmatched(unmatched_ids, p_applicants)\n",
    "\n",
    "asfpy.allocate(unmatched_applicants, new_capacity_editors)[\"matchings\"]"
   ]
  },
  {
   "cell_type": "code",
   "execution_count": null,
   "metadata": {},
   "outputs": [],
   "source": []
  }
 ],
 "metadata": {
  "kernelspec": {
   "display_name": "Python 3",
   "language": "python",
   "name": "python3"
  },
  "language_info": {
   "codemirror_mode": {
    "name": "ipython",
    "version": 3
   },
   "file_extension": ".py",
   "mimetype": "text/x-python",
   "name": "python",
   "nbconvert_exporter": "python",
   "pygments_lexer": "ipython3",
   "version": "3.8.2"
  }
 },
 "nbformat": 4,
 "nbformat_minor": 4
}
