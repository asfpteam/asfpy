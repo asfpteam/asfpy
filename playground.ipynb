{
 "cells": [
  {
   "cell_type": "markdown",
   "metadata": {},
   "source": [
    "# Playground for ASFPy module development"
   ]
  },
  {
   "cell_type": "code",
   "execution_count": 1,
   "metadata": {},
   "outputs": [],
   "source": [
    "import os\n",
    "\n",
    "from asfpy import asfpy"
   ]
  },
  {
   "cell_type": "code",
   "execution_count": 2,
   "metadata": {},
   "outputs": [],
   "source": [
    "categories = [\n",
    "    \"Clinical\",\n",
    "    \"Developmental\",\n",
    "    \"Affective\",\n",
    "    \"Social\",\n",
    "    \"Cognitive\"\n",
    "]"
   ]
  },
  {
   "cell_type": "code",
   "execution_count": 3,
   "metadata": {},
   "outputs": [],
   "source": [
    "applicants = [\n",
    "    {\n",
    "        \"id\": \"APP001\",\n",
    "        \"urm\": False,\n",
    "        \"lim\": False,\n",
    "        \"du\": True,\n",
    "        \"is_flexible\": True,\n",
    "        \"categories\": {\n",
    "            \"Clinical\"\n",
    "        },\n",
    "    },\n",
    "    {\n",
    "        \"id\": \"APP002\",\n",
    "        \"urm\": True,\n",
    "        \"lim\": False,\n",
    "        \"du\": True,\n",
    "        \"is_flexible\": True,\n",
    "        \"categories\": {\n",
    "            \"Cognitive\"\n",
    "        },\n",
    "    },\n",
    "    {\n",
    "        \"id\": \"APP003\",\n",
    "        \"urm\": True,\n",
    "        \"lim\": False,\n",
    "        \"du\": True,\n",
    "        \"is_flexible\": True,\n",
    "        \"categories\": {\n",
    "            \"Social\",\n",
    "            \"Cognitive\"\n",
    "        }\n",
    "    },\n",
    "    {\n",
    "        \"id\": \"APP004\",\n",
    "        \"urm\": False,\n",
    "        \"lim\": False,\n",
    "        \"du\": True,\n",
    "        \"is_flexible\": True,\n",
    "        \"categories\": {\n",
    "            \"Clinical\"\n",
    "        },\n",
    "    },\n",
    "    {\n",
    "        \"id\": \"APP005\",\n",
    "        \"urm\": True,\n",
    "        \"lim\": True,\n",
    "        \"du\": True,\n",
    "        \"is_flexible\": True,\n",
    "        \"categories\": {\n",
    "            \"Cognitive\",\n",
    "            \"Affective\"\n",
    "        },\n",
    "    },\n",
    "    {\n",
    "        \"id\": \"APP006\",\n",
    "        \"urm\": True,\n",
    "        \"lim\": False,\n",
    "        \"du\": True,\n",
    "        \"is_flexible\": True,\n",
    "        \"categories\": {\n",
    "            \"Affective\",\n",
    "            \"Cognitive\"\n",
    "        }\n",
    "    },\n",
    "    {\n",
    "        \"id\": \"APP007\",\n",
    "        \"urm\": True,\n",
    "        \"lim\": True,\n",
    "        \"du\": False,\n",
    "        \"is_flexible\": False,        \n",
    "        \"categories\": {\n",
    "            \"Clinical\"\n",
    "        }\n",
    "    },\n",
    "    {\n",
    "        \"id\": \"APP008\",\n",
    "        \"urm\": False,\n",
    "        \"lim\": True,\n",
    "        \"du\": False,\n",
    "        \"is_flexible\": True,        \n",
    "        \"categories\": {\n",
    "            \"Developmental\"\n",
    "        }\n",
    "    },\n",
    "    {\n",
    "        \"id\": \"APP009\",\n",
    "        \"urm\": True,\n",
    "        \"lim\": True,\n",
    "        \"du\": False,\n",
    "        \"is_flexible\": False,        \n",
    "        \"categories\": {\n",
    "            \"Clinical\"\n",
    "        }\n",
    "    },\n",
    "    {\n",
    "        \"id\": \"APP010\",\n",
    "        \"urm\": False,\n",
    "        \"lim\": True,\n",
    "        \"du\": False,\n",
    "        \"is_flexible\": True,        \n",
    "        \"categories\": {\n",
    "            \"Affective\"\n",
    "        }\n",
    "    },\n",
    "]"
   ]
  },
  {
   "cell_type": "code",
   "execution_count": 15,
   "metadata": {},
   "outputs": [],
   "source": [
    "editors = [\n",
    "    {\n",
    "        \"id\": \"EDI001\",\n",
    "        \"role\": \"faculty\",\n",
    "        \"categories\": {\n",
    "            \"Clinical\",\n",
    "            \"Developmental\"\n",
    "        },\n",
    "        \"capacity\": 2\n",
    "    },\n",
    "    {\n",
    "        \"id\": \"EDI002\",\n",
    "        \"role\": \"faculty\",\n",
    "        \"categories\": {\n",
    "            \"Affective\"\n",
    "        },\n",
    "        \"capacity\": 2\n",
    "    },\n",
    "    {\n",
    "        \"id\": \"EDI003\",\n",
    "        \"role\": \"faculty\",\n",
    "        \"categories\": {\n",
    "            \"Cognitive\",\n",
    "            \"Affective\"\n",
    "        },\n",
    "        \"capacity\": 5\n",
    "    },\n",
    "    {\n",
    "        \"id\": \"EDI004\",\n",
    "        \"role\": \"student\",\n",
    "        \"categories\": {\n",
    "            \"Clinical\",\n",
    "            \"Developmental\"\n",
    "        },\n",
    "        \"capacity\": 2\n",
    "    },\n",
    "    {\n",
    "        \"id\": \"EDI005\",\n",
    "        \"role\": \"student\",\n",
    "        \"categories\": {\n",
    "            \"Cognitive\",\n",
    "            \"Social\"\n",
    "        },\n",
    "        \"capacity\": 8\n",
    "    },\n",
    "    {\n",
    "        \"id\": \"EDI006\",\n",
    "        \"role\": \"student\",\n",
    "        \"categories\": {\n",
    "            \"Clinical\",\n",
    "            \"Developmental\"\n",
    "        },\n",
    "        \"capacity\": 5\n",
    "    }\n",
    "]"
   ]
  },
  {
   "cell_type": "code",
   "execution_count": 16,
   "metadata": {
    "scrolled": true
   },
   "outputs": [
    {
     "data": {
      "text/plain": [
       "{'matchings': [{'applicant': 'APP005', 'editors': ['EDI003', 'EDI005']},\n",
       "  {'applicant': 'APP007', 'editors': ['EDI001', 'EDI006']},\n",
       "  {'applicant': 'APP009', 'editors': ['EDI001', 'EDI006']},\n",
       "  {'applicant': 'APP002', 'editors': ['EDI003', 'EDI005']},\n",
       "  {'applicant': 'APP003', 'editors': ['EDI003', 'EDI005']},\n",
       "  {'applicant': 'APP006', 'editors': ['EDI002', 'EDI005']},\n",
       "  {'applicant': 'APP008', 'editors': ['EDI006', 'EDI004']},\n",
       "  {'applicant': 'APP001', 'editors': ['EDI006', 'EDI004']}],\n",
       " 'unmatched': ['APP010', 'APP004']}"
      ]
     },
     "execution_count": 16,
     "metadata": {},
     "output_type": "execute_result"
    }
   ],
   "source": [
    "from copy import deepcopy\n",
    "_editors = deepcopy(editors)\n",
    "\n",
    "p_applicants = asfpy.prioritize(applicants, rank_method = asfpy.asfp_rank)\n",
    "\n",
    "asfpy.allocate(p_applicants, editors)"
   ]
  },
  {
   "cell_type": "code",
   "execution_count": 17,
   "metadata": {},
   "outputs": [
    {
     "data": {
      "text/plain": [
       "{'matchings': [{'applicant': 'APP005', 'editors': ['EDI003', 'EDI005']},\n",
       "  {'applicant': 'APP002', 'editors': ['EDI003', 'EDI005']},\n",
       "  {'applicant': 'APP003', 'editors': ['EDI005', 'EDI005']}],\n",
       " 'unmatched': ['APP007',\n",
       "  'APP009',\n",
       "  'APP006',\n",
       "  'APP008',\n",
       "  'APP010',\n",
       "  'APP001',\n",
       "  'APP004']}"
      ]
     },
     "execution_count": 17,
     "metadata": {},
     "output_type": "execute_result"
    }
   ],
   "source": [
    "# Run again to see what happens as capacity runs out\n",
    "asfpy.allocate(p_applicants, editors)"
   ]
  },
  {
   "cell_type": "code",
   "execution_count": null,
   "metadata": {},
   "outputs": [],
   "source": []
  }
 ],
 "metadata": {
  "kernelspec": {
   "display_name": "Python 3",
   "language": "python",
   "name": "python3"
  },
  "language_info": {
   "codemirror_mode": {
    "name": "ipython",
    "version": 3
   },
   "file_extension": ".py",
   "mimetype": "text/x-python",
   "name": "python",
   "nbconvert_exporter": "python",
   "pygments_lexer": "ipython3",
   "version": "3.8.2"
  }
 },
 "nbformat": 4,
 "nbformat_minor": 4
}
