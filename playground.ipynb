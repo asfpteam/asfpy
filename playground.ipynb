{
 "cells": [
  {
   "cell_type": "markdown",
   "metadata": {},
   "source": [
    "# Playground for ASFPy module development"
   ]
  },
  {
   "cell_type": "code",
   "execution_count": 11,
   "metadata": {},
   "outputs": [],
   "source": [
    "import os\n",
    "import csv\n",
    "import random\n",
    "from copy import deepcopy\n",
    "\n",
    "from asfpy import asfpy"
   ]
  },
  {
   "cell_type": "code",
   "execution_count": 17,
   "metadata": {},
   "outputs": [],
   "source": [
    "from pathlib import Path\n",
    "\n",
    "FOLDER = \"asfp2020\"\n",
    "FILE = \"processed-editors-list-draft.csv\"\n",
    "\n",
    "path = Path(\"__file__\").parent.absolute()\n",
    "\n",
    "filename = path.parent.joinpath(FOLDER).joinpath(FILE)\n",
    "\n",
    "editors = asfpy.read_preprocessed_editors_list_csv(filename)"
   ]
  },
  {
   "cell_type": "code",
   "execution_count": 18,
   "metadata": {},
   "outputs": [],
   "source": [
    "applicants = [\n",
    "    {\n",
    "        \"id\": \"APP001\",\n",
    "        \"urm\": False,\n",
    "        \"lim\": False,\n",
    "        \"du\": True,\n",
    "        \"is_flexible\": True,\n",
    "        \"categories\": {\n",
    "            \"Clinical Psychology\"\n",
    "        },\n",
    "    },\n",
    "    {\n",
    "        \"id\": \"APP002\",\n",
    "        \"urm\": True,\n",
    "        \"lim\": False,\n",
    "        \"du\": True,\n",
    "        \"is_flexible\": True,\n",
    "        \"categories\": {\n",
    "            \"Cognitive Psychology\"\n",
    "        },\n",
    "    },\n",
    "    {\n",
    "        \"id\": \"APP003\",\n",
    "        \"urm\": True,\n",
    "        \"lim\": False,\n",
    "        \"du\": True,\n",
    "        \"is_flexible\": True,\n",
    "        \"categories\": {\n",
    "            \"Social\",\n",
    "            \"Cognitive Psychology\"\n",
    "        }\n",
    "    },\n",
    "    {\n",
    "        \"id\": \"APP004\",\n",
    "        \"urm\": False,\n",
    "        \"lim\": False,\n",
    "        \"du\": True,\n",
    "        \"is_flexible\": True,\n",
    "        \"categories\": {\n",
    "            \"Clinical Psychology\"\n",
    "        },\n",
    "    },\n",
    "    {\n",
    "        \"id\": \"APP005\",\n",
    "        \"urm\": True,\n",
    "        \"lim\": True,\n",
    "        \"du\": True,\n",
    "        \"is_flexible\": True,\n",
    "        \"categories\": {\n",
    "            \"Cognitive Psychology\",\n",
    "            \"Affective Psychology\"\n",
    "        },\n",
    "    },\n",
    "    {\n",
    "        \"id\": \"APP006\",\n",
    "        \"urm\": True,\n",
    "        \"lim\": False,\n",
    "        \"du\": True,\n",
    "        \"is_flexible\": True,\n",
    "        \"categories\": {\n",
    "            \"Affective Psychology\",\n",
    "            \"Cognitive Psychology\"\n",
    "        }\n",
    "    },\n",
    "    {\n",
    "        \"id\": \"APP007\",\n",
    "        \"urm\": True,\n",
    "        \"lim\": True,\n",
    "        \"du\": False,\n",
    "        \"is_flexible\": False,        \n",
    "        \"categories\": {\n",
    "            \"Clinical Psychology\"\n",
    "        }\n",
    "    },\n",
    "    {\n",
    "        \"id\": \"APP008\",\n",
    "        \"urm\": False,\n",
    "        \"lim\": True,\n",
    "        \"du\": False,\n",
    "        \"is_flexible\": True,        \n",
    "        \"categories\": {\n",
    "            \"Developmental Psychology\"\n",
    "        }\n",
    "    },\n",
    "    {\n",
    "        \"id\": \"APP009\",\n",
    "        \"urm\": True,\n",
    "        \"lim\": True,\n",
    "        \"du\": False,\n",
    "        \"is_flexible\": False,        \n",
    "        \"categories\": {\n",
    "            \"Clinical Psychology\"\n",
    "        }\n",
    "    },\n",
    "    {\n",
    "        \"id\": \"APP010\",\n",
    "        \"urm\": False,\n",
    "        \"lim\": True,\n",
    "        \"du\": False,\n",
    "        \"is_flexible\": True,        \n",
    "        \"categories\": {\n",
    "            \"Affective Psychology\"\n",
    "        }\n",
    "    },\n",
    "]"
   ]
  },
  {
   "cell_type": "code",
   "execution_count": 25,
   "metadata": {
    "scrolled": true
   },
   "outputs": [
    {
     "data": {
      "text/plain": [
       "{'matchings': [{'applicant': 'APP005', 'editors': ['EDI013', 'EDI015']},\n",
       "  {'applicant': 'APP007', 'editors': ['EDI012', 'EDI007']},\n",
       "  {'applicant': 'APP009', 'editors': ['EDI016', 'EDI008']},\n",
       "  {'applicant': 'APP002', 'editors': ['EDI024', 'EDI018']},\n",
       "  {'applicant': 'APP003', 'editors': ['EDI010', 'EDI039']},\n",
       "  {'applicant': 'APP006', 'editors': ['EDI027', 'EDI035']},\n",
       "  {'applicant': 'APP008', 'editors': ['EDI042', 'EDI020']},\n",
       "  {'applicant': 'APP001', 'editors': ['EDI017', 'EDI019']},\n",
       "  {'applicant': 'APP004', 'editors': ['EDI030', 'EDI022']}],\n",
       " 'unmatched': ['APP010']}"
      ]
     },
     "execution_count": 25,
     "metadata": {},
     "output_type": "execute_result"
    }
   ],
   "source": [
    "_editors = random.shuffle(deepcopy(editors))\n",
    "\n",
    "p_applicants = asfpy.prioritize(applicants, rank_method = asfpy.asfp_rank)\n",
    "\n",
    "asfpy.allocate(p_applicants, editors)"
   ]
  },
  {
   "cell_type": "code",
   "execution_count": null,
   "metadata": {},
   "outputs": [],
   "source": [
    "# Run again to see what happens as capacity runs out\n",
    "asfpy.allocate(p_applicants, editors)"
   ]
  },
  {
   "cell_type": "code",
   "execution_count": null,
   "metadata": {},
   "outputs": [],
   "source": []
  }
 ],
 "metadata": {
  "kernelspec": {
   "display_name": "Python 3",
   "language": "python",
   "name": "python3"
  },
  "language_info": {
   "codemirror_mode": {
    "name": "ipython",
    "version": 3
   },
   "file_extension": ".py",
   "mimetype": "text/x-python",
   "name": "python",
   "nbconvert_exporter": "python",
   "pygments_lexer": "ipython3",
   "version": "3.8.2"
  }
 },
 "nbformat": 4,
 "nbformat_minor": 4
}
