{
 "cells": [
  {
   "cell_type": "markdown",
   "metadata": {},
   "source": [
    "# Playground for ASFPy module development"
   ]
  },
  {
   "cell_type": "code",
   "execution_count": 45,
   "metadata": {},
   "outputs": [],
   "source": [
    "import os\n",
    "import csv\n",
    "import random\n",
    "import operator\n",
    "from copy import deepcopy\n",
    "\n",
    "from asfpy import asfpy"
   ]
  },
  {
   "cell_type": "code",
   "execution_count": 46,
   "metadata": {},
   "outputs": [],
   "source": [
    "from pathlib import Path\n",
    "\n",
    "FOLDER = \"asfp2020\"\n",
    "EDITORS_FILE = \"processed-editors-list-draft.csv\"\n",
    "APPLICANTS_FILE = \"processed-applicants-list-draft.csv\"\n",
    "MATCHINGS_FILE = \"matchings-list-draft.csv\"\n",
    "UNMATCHED_FILE = \"unmatched-list-draft.csv\"\n",
    "MANIFEST_FILE = \"applicant-id-manifest-draft.csv\"\n",
    "\n",
    "path = Path(\"__file__\").parent.absolute()\n",
    "\n",
    "editors_filename = path.parent.joinpath(FOLDER).joinpath(EDITORS_FILE)\n",
    "editors = asfpy.read_preprocessed_editors_list_csv(editors_filename)\n",
    "\n",
    "applicants_filename = path.parent.joinpath(FOLDER).joinpath(APPLICANTS_FILE)\n",
    "applicants = asfpy.read_preprocessed_applicants_list_csv(applicants_filename)\n",
    "\n",
    "matchings_filename = path.parent.joinpath(FOLDER).joinpath(MATCHINGS_FILE)\n",
    "unmatched_filename = path.parent.joinpath(FOLDER).joinpath(UNMATCHED_FILE)\n",
    "applicant_id_manifest_filename = path.parent.joinpath(FOLDER).joinpath(MANIFEST_FILE)"
   ]
  },
  {
   "cell_type": "code",
   "execution_count": 47,
   "metadata": {
    "scrolled": true
   },
   "outputs": [],
   "source": [
    "_editors = deepcopy(editors)\n",
    "_applicants = deepcopy(asfpy.randomize(applicants))\n",
    "\n",
    "p_applicants = asfpy.prioritize(_applicants)\n",
    "\n",
    "allocation_output = asfpy.allocate(p_applicants, _editors)"
   ]
  },
  {
   "cell_type": "markdown",
   "metadata": {},
   "source": [
    "# Allocation Output Handling\n",
    "\n",
    "The output from running the allocation method includes a list of matchings, a list of unmatched applicants by identifier strings, and a list of editors _after_ decrementing capacities."
   ]
  },
  {
   "cell_type": "markdown",
   "metadata": {},
   "source": [
    "## Handle saving matchings"
   ]
  },
  {
   "cell_type": "code",
   "execution_count": 48,
   "metadata": {
    "scrolled": false
   },
   "outputs": [
    {
     "name": "stdout",
     "output_type": "stream",
     "text": [
      "Number of matchings:  152\n",
      "Number of unmatched:  52\n",
      "Capacity left by editors:  4\n"
     ]
    }
   ],
   "source": [
    "dyads = asfpy.format_matchings(allocation_output[\"matchings\"], applicants, editors)\n",
    "unmatched_applicants = asfpy.compile_unmatched(allocation_output[\"unmatched\"], p_applicants)\n",
    "\n",
    "asfpy.write_list_to_csv(dyads, matchings_filename)\n",
    "asfpy.write_list_to_csv(asfpy.format_unmatched(unmatched_applicants), unmatched_filename)\n",
    "asfpy.write_list_to_csv(asfpy.format_applicant_id_manifest(p_applicants), applicant_id_manifest_filename)\n",
    "\n",
    "print(\"Number of matchings: \", len(allocation_output[\"matchings\"]))\n",
    "print(\"Number of unmatched: \", len(allocation_output[\"unmatched\"]))\n",
    "print(\"Capacity left by editors: \", asfpy.capacity(allocation_output[\"editors\"]))"
   ]
  },
  {
   "cell_type": "code",
   "execution_count": 54,
   "metadata": {},
   "outputs": [
    {
     "data": {
      "text/plain": [
       "0"
      ]
     },
     "execution_count": 54,
     "metadata": {},
     "output_type": "execute_result"
    }
   ],
   "source": [
    "asfpy.capacity(asfpy.editors_by_categories(allocation_output[\"editors\"], {'Developmental Psychology'}))"
   ]
  },
  {
   "cell_type": "markdown",
   "metadata": {},
   "source": [
    "## New editors by capacity and unmatched applicants\n",
    "\n",
    "This pattern should be used to re-run the allocation for a given set of editors and applicants. In particular, this would be re-run _if_ editors increase capacity. The applicants remain in the same priority ordering from the first allocation by using `p_applicants`."
   ]
  },
  {
   "cell_type": "code",
   "execution_count": 50,
   "metadata": {
    "scrolled": false
   },
   "outputs": [
    {
     "data": {
      "text/plain": [
       "[]"
      ]
     },
     "execution_count": 50,
     "metadata": {},
     "output_type": "execute_result"
    }
   ],
   "source": [
    "new_capacity_editors = allocation_output[\"editors\"]\n",
    "unmatched_ids = allocation_output[\"unmatched\"]\n",
    "## Use p_applicants to keep rank order\n",
    "unmatched_applicants = asfpy.compile_unmatched(unmatched_ids, p_applicants)\n",
    "\n",
    "asfpy.allocate(unmatched_applicants, new_capacity_editors)[\"matchings\"]"
   ]
  },
  {
   "cell_type": "code",
   "execution_count": 56,
   "metadata": {},
   "outputs": [
    {
     "data": {
      "text/plain": [
       "[{'applicant_id': 'APP_007',\n",
       "  'applicant_email': 'justineb@usf.edu',\n",
       "  'applicant_categories': 'Clinical Psychology'},\n",
       " {'applicant_id': 'APP_064',\n",
       "  'applicant_email': 'smesfand@bu.edu',\n",
       "  'applicant_categories': 'Clinical Psychology'},\n",
       " {'applicant_id': 'APP_034',\n",
       "  'applicant_email': 'christopher.palmer2@rockets.utoledo.edu',\n",
       "  'applicant_categories': 'Clinical Psychology'},\n",
       " {'applicant_id': 'APP_161',\n",
       "  'applicant_email': 'frlupini@gmail.com',\n",
       "  'applicant_categories': 'Clinical Psychology'},\n",
       " {'applicant_id': 'APP_096',\n",
       "  'applicant_email': 'ericomaringram11@gmail.com',\n",
       "  'applicant_categories': 'Clinical Psychology'},\n",
       " {'applicant_id': 'APP_121',\n",
       "  'applicant_email': 'melissamnance@gmail.com',\n",
       "  'applicant_categories': 'Clinical Psychology'},\n",
       " {'applicant_id': 'APP_106',\n",
       "  'applicant_email': 'kstone24@msudenver.edu',\n",
       "  'applicant_categories': 'Clinical Psychology'},\n",
       " {'applicant_id': 'APP_146',\n",
       "  'applicant_email': 'asherrill@springfieldcollege.edu',\n",
       "  'applicant_categories': 'Clinical Psychology'},\n",
       " {'applicant_id': 'APP_023',\n",
       "  'applicant_email': 'rs679303@sju.edu',\n",
       "  'applicant_categories': 'Clinical Psychology'},\n",
       " {'applicant_id': 'APP_131',\n",
       "  'applicant_email': 'cristina.nardini@yale.edu',\n",
       "  'applicant_categories': 'Clinical Psychology'},\n",
       " {'applicant_id': 'APP_053',\n",
       "  'applicant_email': 'saraamoore7@gmail.com',\n",
       "  'applicant_categories': 'Clinical Psychology'},\n",
       " {'applicant_id': 'APP_036',\n",
       "  'applicant_email': 'bahenab1993@gmail.com',\n",
       "  'applicant_categories': 'Clinical Psychology'},\n",
       " {'applicant_id': 'APP_117',\n",
       "  'applicant_email': 'zoexia110696@gmail.com',\n",
       "  'applicant_categories': 'Clinical Psychology'},\n",
       " {'applicant_id': 'APP_013',\n",
       "  'applicant_email': 'pavithra.andrea.thomas@gmail.com',\n",
       "  'applicant_categories': 'Clinical Psychology'},\n",
       " {'applicant_id': 'APP_143',\n",
       "  'applicant_email': 'adrianacabrales10@gmail.com',\n",
       "  'applicant_categories': 'Clinical Psychology'},\n",
       " {'applicant_id': 'APP_112',\n",
       "  'applicant_email': 'arianade@buffalo.edu',\n",
       "  'applicant_categories': 'Clinical Psychology'},\n",
       " {'applicant_id': 'APP_197',\n",
       "  'applicant_email': 'zareenhmir@gmail.com',\n",
       "  'applicant_categories': 'Clinical Psychology'},\n",
       " {'applicant_id': 'APP_150',\n",
       "  'applicant_email': 'lfarias1@uci.edu',\n",
       "  'applicant_categories': 'Clinical Psychology'},\n",
       " {'applicant_id': 'APP_115',\n",
       "  'applicant_email': 'mestrada1097@gmail.com',\n",
       "  'applicant_categories': 'Clinical Psychology'},\n",
       " {'applicant_id': 'APP_186',\n",
       "  'applicant_email': 'ariannaslane@gmail.com',\n",
       "  'applicant_categories': 'Clinical Psychology'},\n",
       " {'applicant_id': 'APP_030',\n",
       "  'applicant_email': 'michellezernick@gmail.com',\n",
       "  'applicant_categories': 'Clinical Psychology'},\n",
       " {'applicant_id': 'APP_016',\n",
       "  'applicant_email': 'nikita.parulkar@gmail.com',\n",
       "  'applicant_categories': 'Clinical Psychology'},\n",
       " {'applicant_id': 'APP_076',\n",
       "  'applicant_email': 'mhcook@uncg.edu',\n",
       "  'applicant_categories': 'Clinical Psychology'},\n",
       " {'applicant_id': 'APP_074',\n",
       "  'applicant_email': 'taylor.waddy.18@cnu.edu',\n",
       "  'applicant_categories': 'Clinical Psychology'},\n",
       " {'applicant_id': 'APP_198',\n",
       "  'applicant_email': 'feliciag@uoregon.edu',\n",
       "  'applicant_categories': 'Clinical Psychology'},\n",
       " {'applicant_id': 'APP_135',\n",
       "  'applicant_email': 'gideoncelliott@gmail.com',\n",
       "  'applicant_categories': 'Clinical Psychology'},\n",
       " {'applicant_id': 'APP_042',\n",
       "  'applicant_email': 'nathan_hollinsaid@fas.harvard.edu',\n",
       "  'applicant_categories': 'Clinical Psychology'},\n",
       " {'applicant_id': 'APP_001',\n",
       "  'applicant_email': 'juliaknicholas@gmail.com',\n",
       "  'applicant_categories': 'Clinical Psychology'},\n",
       " {'applicant_id': 'APP_102',\n",
       "  'applicant_email': 'bripastro96@gmail.com',\n",
       "  'applicant_categories': 'Clinical Psychology'},\n",
       " {'applicant_id': 'APP_038',\n",
       "  'applicant_email': 'kellyann.navarre@rockets.utoledo.edu',\n",
       "  'applicant_categories': 'Clinical Psychology'},\n",
       " {'applicant_id': 'APP_145',\n",
       "  'applicant_email': 'jesshoy8@gmail.com',\n",
       "  'applicant_categories': 'Clinical Psychology'},\n",
       " {'applicant_id': 'APP_061',\n",
       "  'applicant_email': 'madison.sayyah@gmail.com',\n",
       "  'applicant_categories': 'Clinical Psychology'},\n",
       " {'applicant_id': 'APP_070',\n",
       "  'applicant_email': 'hinzamalik04@gmail.com',\n",
       "  'applicant_categories': 'Clinical Psychology'},\n",
       " {'applicant_id': 'APP_105',\n",
       "  'applicant_email': 'rhandsman@childrensnational.org',\n",
       "  'applicant_categories': 'Clinical Psychology'},\n",
       " {'applicant_id': 'APP_202',\n",
       "  'applicant_email': 'cgl37@georgetown.edu',\n",
       "  'applicant_categories': 'Clinical Psychology'},\n",
       " {'applicant_id': 'APP_098',\n",
       "  'applicant_email': 'gullon@union.edu',\n",
       "  'applicant_categories': 'Clinical Psychology'},\n",
       " {'applicant_id': 'APP_132',\n",
       "  'applicant_email': 'charlikirby@gmail.com',\n",
       "  'applicant_categories': 'Clinical Psychology'},\n",
       " {'applicant_id': 'APP_144',\n",
       "  'applicant_email': 'wmfang@stanford.edu',\n",
       "  'applicant_categories': 'Social Psychology'},\n",
       " {'applicant_id': 'APP_003',\n",
       "  'applicant_email': 'jlejeune@wesleyan.edu',\n",
       "  'applicant_categories': 'Clinical Psychology'},\n",
       " {'applicant_id': 'APP_031',\n",
       "  'applicant_email': 'cmazurek@family-institute.org',\n",
       "  'applicant_categories': 'Clinical Psychology'},\n",
       " {'applicant_id': 'APP_180',\n",
       "  'applicant_email': 'kellymcrey14@gmail.com',\n",
       "  'applicant_categories': 'Clinical Psychology'},\n",
       " {'applicant_id': 'APP_033',\n",
       "  'applicant_email': 'jennifer.krupa@cuanschutz.edu',\n",
       "  'applicant_categories': 'Clinical Psychology'},\n",
       " {'applicant_id': 'APP_099',\n",
       "  'applicant_email': 'chne0374@colorado.edu',\n",
       "  'applicant_categories': 'Clinical Psychology'},\n",
       " {'applicant_id': 'APP_044',\n",
       "  'applicant_email': 'ccrinni1@binghamton.edu',\n",
       "  'applicant_categories': 'Clinical Psychology'},\n",
       " {'applicant_id': 'APP_155',\n",
       "  'applicant_email': 'nicolesenia@mail.adelphi.edu',\n",
       "  'applicant_categories': 'Clinical Psychology'},\n",
       " {'applicant_id': 'APP_159',\n",
       "  'applicant_email': 'lgcohen@regenstrief.org',\n",
       "  'applicant_categories': 'Clinical Psychology'},\n",
       " {'applicant_id': 'APP_055',\n",
       "  'applicant_email': 'manfreds@lafayette.edu',\n",
       "  'applicant_categories': 'Social Psychology'},\n",
       " {'applicant_id': 'APP_077',\n",
       "  'applicant_email': 'paula.pham1@gmail.com',\n",
       "  'applicant_categories': 'Social Psychology'},\n",
       " {'applicant_id': 'APP_167',\n",
       "  'applicant_email': 'msbenda29@gwmail.gwu.edu',\n",
       "  'applicant_categories': 'Developmental Psychology, Clinical Psychology'},\n",
       " {'applicant_id': 'APP_113',\n",
       "  'applicant_email': 'ecousins@vols.utk.edu',\n",
       "  'applicant_categories': 'Clinical Psychology'},\n",
       " {'applicant_id': 'APP_114',\n",
       "  'applicant_email': 'haileyhodum@yahoo.com',\n",
       "  'applicant_categories': 'Clinical Psychology'},\n",
       " {'applicant_id': 'APP_154',\n",
       "  'applicant_email': 'austingstarkey@gmail.com',\n",
       "  'applicant_categories': 'Clinical Psychology'}]"
      ]
     },
     "execution_count": 56,
     "metadata": {},
     "output_type": "execute_result"
    }
   ],
   "source": [
    "asfpy.format_unmatched(unmatched_applicants)"
   ]
  },
  {
   "cell_type": "code",
   "execution_count": null,
   "metadata": {},
   "outputs": [],
   "source": []
  }
 ],
 "metadata": {
  "kernelspec": {
   "display_name": "Python 3",
   "language": "python",
   "name": "python3"
  },
  "language_info": {
   "codemirror_mode": {
    "name": "ipython",
    "version": 3
   },
   "file_extension": ".py",
   "mimetype": "text/x-python",
   "name": "python",
   "nbconvert_exporter": "python",
   "pygments_lexer": "ipython3",
   "version": "3.8.2"
  }
 },
 "nbformat": 4,
 "nbformat_minor": 4
}
