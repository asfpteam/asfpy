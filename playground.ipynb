{
 "cells": [
  {
   "cell_type": "markdown",
   "metadata": {},
   "source": [
    "# Playground for ASFPy module development"
   ]
  },
  {
   "cell_type": "code",
   "execution_count": 53,
   "metadata": {},
   "outputs": [],
   "source": [
    "import os\n",
    "from operator import itemgetter\n",
    "\n",
    "import asfpy"
   ]
  },
  {
   "cell_type": "code",
   "execution_count": 61,
   "metadata": {},
   "outputs": [],
   "source": [
    "applicants = [\n",
    "    {\n",
    "        \"id\": \"APP001\",\n",
    "        \"urm\": False,\n",
    "        \"lim\": False,\n",
    "        \"du\": True,\n",
    "        \"categories\": {\n",
    "            \"Clinical\"\n",
    "        },\n",
    "    },\n",
    "    {\n",
    "        \"id\": \"APP002\",\n",
    "        \"urm\": True,\n",
    "        \"lim\": False,\n",
    "        \"du\": True,\n",
    "        \"categories\": {\n",
    "            \"Cognitive\"\n",
    "        },\n",
    "    },\n",
    "    {\n",
    "        \"id\": \"APP003\",\n",
    "        \"urm\": True,\n",
    "        \"lim\": False,\n",
    "        \"du\": True,\n",
    "        \"categories\": {\n",
    "            \"Affective\",\n",
    "            \"Cognitive\"\n",
    "        }\n",
    "    },\n",
    "    {\n",
    "        \"id\": \"APP004\",\n",
    "        \"urm\": True,\n",
    "        \"lim\": True,\n",
    "        \"du\": False,\n",
    "        \"categories\": {\n",
    "            \"Clinical\"\n",
    "        }\n",
    "    },\n",
    "    {\n",
    "        \"id\": \"APP005\",\n",
    "        \"urm\": False,\n",
    "        \"lim\": True,\n",
    "        \"du\": False,\n",
    "        \"categories\": {\n",
    "            \"Developmental\"\n",
    "        }\n",
    "    }\n",
    "]"
   ]
  },
  {
   "cell_type": "code",
   "execution_count": 11,
   "metadata": {},
   "outputs": [],
   "source": [
    "categories = [\n",
    "    \"Clinical\",\n",
    "    \"Developmental\",\n",
    "    \"Affective\",\n",
    "    \"Social\",\n",
    "    \"Cognitive\"\n",
    "]"
   ]
  },
  {
   "cell_type": "code",
   "execution_count": 26,
   "metadata": {},
   "outputs": [],
   "source": [
    "def rank(applicant):\n",
    "    \"\"\"\n",
    "    Rank an applicant by attribute combinations.\n",
    "    \"\"\"\n",
    "    is_urm = applicant[\"urm\"]\n",
    "    is_lim = applicant[\"lim\"]\n",
    "    is_du = applicant[\"du\"]\n",
    "    \n",
    "    if (is_urm and is_lim and is_du):\n",
    "        rank = 0\n",
    "    elif (is_urm and is_lim):\n",
    "        rank = 1\n",
    "    elif (is_urm or is_lim) and is_du:\n",
    "        rank = 2\n",
    "    elif (is_urm or is_lim):\n",
    "        rank = 3\n",
    "    elif is_du:\n",
    "        rank = 4\n",
    "    else:\n",
    "        rank = 5\n",
    "        \n",
    "    return rank"
   ]
  },
  {
   "cell_type": "code",
   "execution_count": 62,
   "metadata": {},
   "outputs": [],
   "source": [
    "def prioritize(applicants):\n",
    "    \"\"\"\n",
    "    Prioritize applicants by rank of attributes.\n",
    "    \"\"\"\n",
    "    for a in applicants:\n",
    "        a[\"rank\"] = rank(a)\n",
    "    applicants.sort(key = itemgetter(\"rank\"))\n",
    "    return applicants"
   ]
  },
  {
   "cell_type": "code",
   "execution_count": 63,
   "metadata": {},
   "outputs": [
    {
     "data": {
      "text/plain": [
       "[{'id': 'APP004',\n",
       "  'urm': True,\n",
       "  'lim': True,\n",
       "  'du': False,\n",
       "  'categories': {'Clinical'},\n",
       "  'rank': 1},\n",
       " {'id': 'APP002',\n",
       "  'urm': True,\n",
       "  'lim': False,\n",
       "  'du': True,\n",
       "  'categories': {'Cognitive'},\n",
       "  'rank': 2},\n",
       " {'id': 'APP003',\n",
       "  'urm': True,\n",
       "  'lim': False,\n",
       "  'du': True,\n",
       "  'categories': {'Affective', 'Cognitive'},\n",
       "  'rank': 2},\n",
       " {'id': 'APP005',\n",
       "  'urm': False,\n",
       "  'lim': True,\n",
       "  'du': False,\n",
       "  'categories': {'Developmental'},\n",
       "  'rank': 3},\n",
       " {'id': 'APP001',\n",
       "  'urm': False,\n",
       "  'lim': False,\n",
       "  'du': True,\n",
       "  'categories': {'Clinical'},\n",
       "  'rank': 4}]"
      ]
     },
     "execution_count": 63,
     "metadata": {},
     "output_type": "execute_result"
    }
   ],
   "source": [
    "prioritize(applicants)"
   ]
  },
  {
   "cell_type": "code",
   "execution_count": null,
   "metadata": {},
   "outputs": [],
   "source": []
  }
 ],
 "metadata": {
  "kernelspec": {
   "display_name": "Python 3",
   "language": "python",
   "name": "python3"
  },
  "language_info": {
   "codemirror_mode": {
    "name": "ipython",
    "version": 3
   },
   "file_extension": ".py",
   "mimetype": "text/x-python",
   "name": "python",
   "nbconvert_exporter": "python",
   "pygments_lexer": "ipython3",
   "version": "3.8.2"
  }
 },
 "nbformat": 4,
 "nbformat_minor": 4
}
