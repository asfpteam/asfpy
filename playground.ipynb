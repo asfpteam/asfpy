{
 "cells": [
  {
   "cell_type": "markdown",
   "metadata": {},
   "source": [
    "# Playground for ASFPy module development"
   ]
  },
  {
   "cell_type": "code",
   "execution_count": 36,
   "metadata": {},
   "outputs": [],
   "source": [
    "import os\n",
    "\n",
    "from asfpy import *"
   ]
  },
  {
   "cell_type": "code",
   "execution_count": 37,
   "metadata": {},
   "outputs": [],
   "source": [
    "categories = [\n",
    "    \"Clinical\",\n",
    "    \"Developmental\",\n",
    "    \"Affective\",\n",
    "    \"Social\",\n",
    "    \"Cognitive\"\n",
    "]"
   ]
  },
  {
   "cell_type": "code",
   "execution_count": 38,
   "metadata": {},
   "outputs": [],
   "source": [
    "applicants = [\n",
    "    {\n",
    "        \"id\": \"APP001\",\n",
    "        \"urm\": False,\n",
    "        \"lim\": False,\n",
    "        \"du\": True,\n",
    "        \"categories\": {\n",
    "            \"Clinical\"\n",
    "        },\n",
    "    },\n",
    "    {\n",
    "        \"id\": \"APP002\",\n",
    "        \"urm\": True,\n",
    "        \"lim\": False,\n",
    "        \"du\": True,\n",
    "        \"categories\": {\n",
    "            \"Cognitive\"\n",
    "        },\n",
    "    },\n",
    "    {\n",
    "        \"id\": \"APP003\",\n",
    "        \"urm\": True,\n",
    "        \"lim\": False,\n",
    "        \"du\": True,\n",
    "        \"categories\": {\n",
    "            \"Affective\",\n",
    "            \"Cognitive\"\n",
    "        }\n",
    "    },\n",
    "    {\n",
    "        \"id\": \"APP004\",\n",
    "        \"urm\": True,\n",
    "        \"lim\": True,\n",
    "        \"du\": False,\n",
    "        \"categories\": {\n",
    "            \"Clinical\"\n",
    "        }\n",
    "    },\n",
    "    {\n",
    "        \"id\": \"APP005\",\n",
    "        \"urm\": False,\n",
    "        \"lim\": True,\n",
    "        \"du\": False,\n",
    "        \"categories\": {\n",
    "            \"Developmental\"\n",
    "        }\n",
    "    }\n",
    "]"
   ]
  },
  {
   "cell_type": "code",
   "execution_count": 39,
   "metadata": {},
   "outputs": [],
   "source": [
    "editors = [\n",
    "    {\n",
    "        \"id\": \"EDI001\",\n",
    "        \"role\": \"faculty\",\n",
    "        \"categories\": {\n",
    "            \"Clinical\",\n",
    "            \"Developmental\"\n",
    "        },\n",
    "        \"capacity\": 3\n",
    "    },\n",
    "    {\n",
    "        \"id\": \"EDI002\",\n",
    "        \"role\": \"faculty\",\n",
    "        \"categories\": {\n",
    "            \"Affective\"\n",
    "        },\n",
    "        \"capacity\": 2\n",
    "    },\n",
    "    {\n",
    "        \"id\": \"EDI003\",\n",
    "        \"role\": \"faculty\",\n",
    "        \"categories\": {\n",
    "            \"Cognitive\",\n",
    "            \"Affective\"\n",
    "        },\n",
    "        \"capacity\": 15\n",
    "    },\n",
    "    {\n",
    "        \"id\": \"EDI004\",\n",
    "        \"role\": \"student\",\n",
    "        \"categories\": {\n",
    "            \"Clinical\",\n",
    "            \"Developmental\"\n",
    "        },\n",
    "        \"capacity\": 5\n",
    "    },\n",
    "    {\n",
    "        \"id\": \"EDI005\",\n",
    "        \"role\": \"student\",\n",
    "        \"categories\": {\n",
    "            \"Cognitive\",\n",
    "            \"Social\"\n",
    "        },\n",
    "        \"capacity\": 8\n",
    "    },\n",
    "        {\n",
    "        \"id\": \"EDI006\",\n",
    "        \"role\": \"student\",\n",
    "        \"categories\": {\n",
    "            \"Clinical\",\n",
    "            \"Developmental\"\n",
    "        },\n",
    "        \"capacity\": 5\n",
    "    }\n",
    "]"
   ]
  },
  {
   "cell_type": "code",
   "execution_count": 40,
   "metadata": {
    "scrolled": true
   },
   "outputs": [],
   "source": [
    "prioritized_applicants = asfpy.prioritize(applicants);"
   ]
  },
  {
   "cell_type": "code",
   "execution_count": 41,
   "metadata": {},
   "outputs": [],
   "source": [
    "faculty_editors = asfpy.editors_by_role(editors, \"faculty\")\n",
    "student_editors = asfpy.editors_by_role(editors, \"student\")"
   ]
  },
  {
   "cell_type": "code",
   "execution_count": 42,
   "metadata": {},
   "outputs": [
    {
     "data": {
      "text/plain": [
       "8"
      ]
     },
     "execution_count": 42,
     "metadata": {},
     "output_type": "execute_result"
    }
   ],
   "source": [
    "asfpy.capacity(asfpy.editors_by_category(student_editors, \"Cognitive\"))"
   ]
  },
  {
   "cell_type": "code",
   "execution_count": 43,
   "metadata": {},
   "outputs": [
    {
     "name": "stdout",
     "output_type": "stream",
     "text": [
      "{'id': 'APP004', 'urm': True, 'lim': True, 'du': False, 'categories': {'Clinical'}, 'rank': 1}\n",
      "{'id': 'APP002', 'urm': True, 'lim': False, 'du': True, 'categories': {'Cognitive'}, 'rank': 2}\n",
      "{'id': 'APP003', 'urm': True, 'lim': False, 'du': True, 'categories': {'Affective', 'Cognitive'}, 'rank': 2}\n",
      "{'id': 'APP005', 'urm': False, 'lim': True, 'du': False, 'categories': {'Developmental'}, 'rank': 3}\n",
      "{'id': 'APP001', 'urm': False, 'lim': False, 'du': True, 'categories': {'Clinical'}, 'rank': 4}\n"
     ]
    }
   ],
   "source": [
    "def match(applicants, editors)\n",
    "    for applicant in applicants:\n",
    "        categories = applicant[\"categories\"]\n",
    "        for category in categories:\n",
    "            category_editors = asfpy.editors_by_category(editors, category)\n",
    "            \n",
    "            faculty_editors = asfpy.editors_by_role(category_editors, \"faculty\")\n",
    "            asfpy.capacity(faculty_editors)"
   ]
  },
  {
   "cell_type": "code",
   "execution_count": null,
   "metadata": {},
   "outputs": [],
   "source": []
  }
 ],
 "metadata": {
  "kernelspec": {
   "display_name": "Python 3",
   "language": "python",
   "name": "python3"
  },
  "language_info": {
   "codemirror_mode": {
    "name": "ipython",
    "version": 3
   },
   "file_extension": ".py",
   "mimetype": "text/x-python",
   "name": "python",
   "nbconvert_exporter": "python",
   "pygments_lexer": "ipython3",
   "version": "3.8.2"
  }
 },
 "nbformat": 4,
 "nbformat_minor": 4
}
