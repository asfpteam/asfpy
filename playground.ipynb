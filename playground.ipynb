{
 "cells": [
  {
   "cell_type": "markdown",
   "metadata": {},
   "source": [
    "# Playground for ASFPy module development"
   ]
  },
  {
   "cell_type": "code",
   "execution_count": 1,
   "metadata": {},
   "outputs": [],
   "source": [
    "import os\n",
    "\n",
    "from asfpy import asfpy"
   ]
  },
  {
   "cell_type": "code",
   "execution_count": 2,
   "metadata": {},
   "outputs": [],
   "source": [
    "categories = [\n",
    "    \"Clinical\",\n",
    "    \"Developmental\",\n",
    "    \"Affective\",\n",
    "    \"Social\",\n",
    "    \"Cognitive\"\n",
    "]"
   ]
  },
  {
   "cell_type": "code",
   "execution_count": 16,
   "metadata": {},
   "outputs": [],
   "source": [
    "applicants = [\n",
    "    {\n",
    "        \"id\": \"APP001\",\n",
    "        \"urm\": False,\n",
    "        \"lim\": False,\n",
    "        \"du\": True,\n",
    "        \"is_flexible\": True,\n",
    "        \"categories\": {\n",
    "            \"Clinical\"\n",
    "        },\n",
    "    },\n",
    "    {\n",
    "        \"id\": \"APP002\",\n",
    "        \"urm\": True,\n",
    "        \"lim\": False,\n",
    "        \"du\": True,\n",
    "        \"is_flexible\": True,\n",
    "        \"categories\": {\n",
    "            \"Cognitive\"\n",
    "        },\n",
    "    },\n",
    "    {\n",
    "        \"id\": \"APP003\",\n",
    "        \"urm\": True,\n",
    "        \"lim\": False,\n",
    "        \"du\": True,\n",
    "        \"is_flexible\": True,\n",
    "        \"categories\": {\n",
    "            \"Affective\",\n",
    "            \"Cognitive\"\n",
    "        }\n",
    "    },\n",
    "    {\n",
    "        \"id\": \"APP004\",\n",
    "        \"urm\": True,\n",
    "        \"lim\": True,\n",
    "        \"du\": False,\n",
    "        \"is_flexible\": False,        \n",
    "        \"categories\": {\n",
    "            \"Clinical\"\n",
    "        }\n",
    "    },\n",
    "    {\n",
    "        \"id\": \"APP005\",\n",
    "        \"urm\": False,\n",
    "        \"lim\": True,\n",
    "        \"du\": False,\n",
    "        \"is_flexible\": True,        \n",
    "        \"categories\": {\n",
    "            \"Developmental\"\n",
    "        }\n",
    "    }\n",
    "]"
   ]
  },
  {
   "cell_type": "code",
   "execution_count": 17,
   "metadata": {},
   "outputs": [],
   "source": [
    "editors = [\n",
    "    {\n",
    "        \"id\": \"EDI001\",\n",
    "        \"role\": \"faculty\",\n",
    "        \"categories\": {\n",
    "            \"Clinical\",\n",
    "            \"Developmental\"\n",
    "        },\n",
    "        \"capacity\": 3\n",
    "    },\n",
    "    {\n",
    "        \"id\": \"EDI002\",\n",
    "        \"role\": \"faculty\",\n",
    "        \"categories\": {\n",
    "            \"Affective\"\n",
    "        },\n",
    "        \"capacity\": 2\n",
    "    },\n",
    "    {\n",
    "        \"id\": \"EDI003\",\n",
    "        \"role\": \"faculty\",\n",
    "        \"categories\": {\n",
    "            \"Cognitive\",\n",
    "            \"Affective\"\n",
    "        },\n",
    "        \"capacity\": 15\n",
    "    },\n",
    "    {\n",
    "        \"id\": \"EDI004\",\n",
    "        \"role\": \"student\",\n",
    "        \"categories\": {\n",
    "            \"Clinical\",\n",
    "            \"Developmental\"\n",
    "        },\n",
    "        \"capacity\": 5\n",
    "    },\n",
    "    {\n",
    "        \"id\": \"EDI005\",\n",
    "        \"role\": \"student\",\n",
    "        \"categories\": {\n",
    "            \"Cognitive\",\n",
    "            \"Social\"\n",
    "        },\n",
    "        \"capacity\": 8\n",
    "    },\n",
    "        {\n",
    "        \"id\": \"EDI006\",\n",
    "        \"role\": \"student\",\n",
    "        \"categories\": {\n",
    "            \"Clinical\",\n",
    "            \"Developmental\"\n",
    "        },\n",
    "        \"capacity\": 5\n",
    "    }\n",
    "]"
   ]
  },
  {
   "cell_type": "code",
   "execution_count": 18,
   "metadata": {
    "scrolled": true
   },
   "outputs": [],
   "source": [
    "prioritized_applicants = asfpy.prioritize(applicants, asfpy.asfp_rank);"
   ]
  },
  {
   "cell_type": "code",
   "execution_count": 6,
   "metadata": {},
   "outputs": [
    {
     "data": {
      "text/plain": [
       "[{'id': 'APP004',\n",
       "  'urm': True,\n",
       "  'lim': True,\n",
       "  'du': False,\n",
       "  'categories': {'Clinical'},\n",
       "  'rank': 1},\n",
       " {'id': 'APP002',\n",
       "  'urm': True,\n",
       "  'lim': False,\n",
       "  'du': True,\n",
       "  'categories': {'Cognitive'},\n",
       "  'rank': 2},\n",
       " {'id': 'APP003',\n",
       "  'urm': True,\n",
       "  'lim': False,\n",
       "  'du': True,\n",
       "  'categories': {'Affective', 'Cognitive'},\n",
       "  'rank': 2},\n",
       " {'id': 'APP005',\n",
       "  'urm': False,\n",
       "  'lim': True,\n",
       "  'du': False,\n",
       "  'categories': {'Developmental'},\n",
       "  'rank': 3},\n",
       " {'id': 'APP001',\n",
       "  'urm': False,\n",
       "  'lim': False,\n",
       "  'du': True,\n",
       "  'categories': {'Clinical'},\n",
       "  'rank': 4}]"
      ]
     },
     "execution_count": 6,
     "metadata": {},
     "output_type": "execute_result"
    }
   ],
   "source": [
    "prioritized_applicants"
   ]
  },
  {
   "cell_type": "code",
   "execution_count": 7,
   "metadata": {},
   "outputs": [],
   "source": [
    "faculty_editors = asfpy.editors_by_role(editors, \"faculty\")\n",
    "student_editors = asfpy.editors_by_role(editors, \"student\")"
   ]
  },
  {
   "cell_type": "code",
   "execution_count": 8,
   "metadata": {},
   "outputs": [
    {
     "data": {
      "text/plain": [
       "[{'id': 'EDI003',\n",
       "  'role': 'faculty',\n",
       "  'categories': {'Affective', 'Cognitive'},\n",
       "  'capacity': 15}]"
      ]
     },
     "execution_count": 8,
     "metadata": {},
     "output_type": "execute_result"
    }
   ],
   "source": [
    "asfpy.editors_by_categories(faculty_editors, {\"Cognitive\"})"
   ]
  },
  {
   "cell_type": "code",
   "execution_count": 14,
   "metadata": {},
   "outputs": [],
   "source": [
    "import operator\n",
    "\n",
    "def match(applicants, editors):\n",
    "    \n",
    "    matches = []\n",
    "    \n",
    "    for applicant in applicants:\n",
    "        \n",
    "        potential_editors = asfpy.editors_by_categories(editors, applicant[\"categories\"])\n",
    "        \n",
    "        if asfpy.capacity(potential_editors) == 0:\n",
    "        # If the editing capacity for an applicant is 0, continue to next applicant    \n",
    "            continue\n",
    "        else:\n",
    "            \n",
    "            faculty_editors = asfpy.editors_by_role(potential_editors, \"faculty\")\n",
    "            student_editors = asfpy.editors_by_role(potential_editors, \"student\")\n",
    "            \n",
    "            _match = {\n",
    "                \"applicant\": applicant[\"id\"]\n",
    "            }\n",
    "        \n",
    "            if asfpy.capacity(faculty_editors) > 0:\n",
    "            # If at least one faculty member is available for an applicant,\n",
    "            # find the best possible match and assign.\n",
    "                \n",
    "                faculty_capacity = sorted([{\n",
    "                    \"capacity\": asfpy.capacity(asfpy.editors_by_categories(faculty_editors, {c})), \n",
    "                    \"category\": c\n",
    "                } for c in applicant[\"categories\"]], key = operator.itemgetter(\"capacity\"), reverse = True)\n",
    "                \n",
    "                # hc = highest capacity category given two options\n",
    "                hc = faculty_capacity[0][\"category\"]\n",
    "                \n",
    "                faculty_in_category = sorted(\n",
    "                    asfpy.editors_by_categories(faculty_editors, {hc}), \n",
    "                    key = operator.itemgetter(\"capacity\"),\n",
    "                    reverse = True\n",
    "                )\n",
    "                \n",
    "                faculty_id = faculty_in_category[0][\"id\"]\n",
    "                \n",
    "                _match[\"faculty\"] = faculty_id\n",
    "                \n",
    "                for e in editors:\n",
    "                    if e[\"id\"] == faculty_id:\n",
    "                        e[\"capacity\"] -= 1\n",
    "                        print(_match)\n",
    "                        \n",
    "            elif applicant[\"is_flexible\"]:\n",
    "            # If applicant is flexible on two student editors' feedback when no faculty are available,\n",
    "            # match a student in place of faculty editor, possible.\n",
    "                pass\n",
    "            \n",
    "            else:\n",
    "            # When no faculty editors are available and the applicant is not 'flexible' on\n",
    "            # two student editors instead, simply continue to next applicant.\n",
    "                continue\n",
    "            \n",
    "            if asfpy.capacity(student_editors) > 0:               \n",
    "                \n",
    "                # _match[\"student\"] = student_id\n",
    "                # ...do similar to above\n",
    "                pass\n",
    "            \n",
    "            # Append the match to list matches\n",
    "            \n",
    "            matches.append(_match)\n",
    "            \n",
    "    return matches"
   ]
  },
  {
   "cell_type": "code",
   "execution_count": 15,
   "metadata": {},
   "outputs": [
    {
     "ename": "KeyError",
     "evalue": "'is_flexible'",
     "output_type": "error",
     "traceback": [
      "\u001b[0;31m---------------------------------------------------------------------------\u001b[0m",
      "\u001b[0;31mKeyError\u001b[0m                                  Traceback (most recent call last)",
      "\u001b[0;32m<ipython-input-15-52ff092282ab>\u001b[0m in \u001b[0;36m<module>\u001b[0;34m\u001b[0m\n\u001b[1;32m      1\u001b[0m \u001b[0mp_applicants\u001b[0m \u001b[0;34m=\u001b[0m \u001b[0masfpy\u001b[0m\u001b[0;34m.\u001b[0m\u001b[0mprioritize\u001b[0m\u001b[0;34m(\u001b[0m\u001b[0mapplicants\u001b[0m\u001b[0;34m)\u001b[0m\u001b[0;34m\u001b[0m\u001b[0;34m\u001b[0m\u001b[0m\n\u001b[0;32m----> 2\u001b[0;31m \u001b[0mmatch\u001b[0m\u001b[0;34m(\u001b[0m\u001b[0mp_applicants\u001b[0m\u001b[0;34m,\u001b[0m \u001b[0meditors\u001b[0m\u001b[0;34m)\u001b[0m\u001b[0;34m\u001b[0m\u001b[0;34m\u001b[0m\u001b[0m\n\u001b[0m",
      "\u001b[0;32m<ipython-input-14-31cf1cecd95e>\u001b[0m in \u001b[0;36mmatch\u001b[0;34m(applicants, editors)\u001b[0m\n\u001b[1;32m     48\u001b[0m                         \u001b[0mprint\u001b[0m\u001b[0;34m(\u001b[0m\u001b[0m_match\u001b[0m\u001b[0;34m)\u001b[0m\u001b[0;34m\u001b[0m\u001b[0;34m\u001b[0m\u001b[0m\n\u001b[1;32m     49\u001b[0m \u001b[0;34m\u001b[0m\u001b[0m\n\u001b[0;32m---> 50\u001b[0;31m             \u001b[0;32melif\u001b[0m \u001b[0mapplicant\u001b[0m\u001b[0;34m[\u001b[0m\u001b[0;34m\"is_flexible\"\u001b[0m\u001b[0;34m]\u001b[0m\u001b[0;34m:\u001b[0m\u001b[0;34m\u001b[0m\u001b[0;34m\u001b[0m\u001b[0m\n\u001b[0m\u001b[1;32m     51\u001b[0m             \u001b[0;31m# If applicant is flexible on two student editors' feedback when no faculty are available,\u001b[0m\u001b[0;34m\u001b[0m\u001b[0;34m\u001b[0m\u001b[0;34m\u001b[0m\u001b[0m\n\u001b[1;32m     52\u001b[0m             \u001b[0;31m# match a student in place of faculty editor, possible.\u001b[0m\u001b[0;34m\u001b[0m\u001b[0;34m\u001b[0m\u001b[0;34m\u001b[0m\u001b[0m\n",
      "\u001b[0;31mKeyError\u001b[0m: 'is_flexible'"
     ]
    }
   ],
   "source": [
    "p_applicants = asfpy.prioritize(applicants)\n",
    "match(p_applicants, editors)"
   ]
  },
  {
   "cell_type": "code",
   "execution_count": null,
   "metadata": {},
   "outputs": [],
   "source": []
  }
 ],
 "metadata": {
  "kernelspec": {
   "display_name": "Python 3",
   "language": "python",
   "name": "python3"
  },
  "language_info": {
   "codemirror_mode": {
    "name": "ipython",
    "version": 3
   },
   "file_extension": ".py",
   "mimetype": "text/x-python",
   "name": "python",
   "nbconvert_exporter": "python",
   "pygments_lexer": "ipython3",
   "version": "3.8.2"
  }
 },
 "nbformat": 4,
 "nbformat_minor": 4
}
