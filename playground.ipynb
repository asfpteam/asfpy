{
 "cells": [
  {
   "cell_type": "markdown",
   "metadata": {},
   "source": [
    "# Playground for ASFPy module development"
   ]
  },
  {
   "cell_type": "code",
   "execution_count": 114,
   "metadata": {},
   "outputs": [],
   "source": [
    "import os\n",
    "\n",
    "from asfpy import asfpy"
   ]
  },
  {
   "cell_type": "code",
   "execution_count": 115,
   "metadata": {},
   "outputs": [],
   "source": [
    "categories = [\n",
    "    \"Clinical\",\n",
    "    \"Developmental\",\n",
    "    \"Affective\",\n",
    "    \"Social\",\n",
    "    \"Cognitive\"\n",
    "]"
   ]
  },
  {
   "cell_type": "code",
   "execution_count": 116,
   "metadata": {},
   "outputs": [],
   "source": [
    "applicants = [\n",
    "    {\n",
    "        \"id\": \"APP001\",\n",
    "        \"urm\": False,\n",
    "        \"lim\": False,\n",
    "        \"du\": True,\n",
    "        \"categories\": {\n",
    "            \"Clinical\"\n",
    "        },\n",
    "    },\n",
    "    {\n",
    "        \"id\": \"APP002\",\n",
    "        \"urm\": True,\n",
    "        \"lim\": False,\n",
    "        \"du\": True,\n",
    "        \"categories\": {\n",
    "            \"Cognitive\"\n",
    "        },\n",
    "    },\n",
    "    {\n",
    "        \"id\": \"APP003\",\n",
    "        \"urm\": True,\n",
    "        \"lim\": False,\n",
    "        \"du\": True,\n",
    "        \"categories\": {\n",
    "            \"Affective\",\n",
    "            \"Cognitive\"\n",
    "        }\n",
    "    },\n",
    "    {\n",
    "        \"id\": \"APP004\",\n",
    "        \"urm\": True,\n",
    "        \"lim\": True,\n",
    "        \"du\": False,\n",
    "        \"categories\": {\n",
    "            \"Clinical\"\n",
    "        }\n",
    "    },\n",
    "    {\n",
    "        \"id\": \"APP005\",\n",
    "        \"urm\": False,\n",
    "        \"lim\": True,\n",
    "        \"du\": False,\n",
    "        \"categories\": {\n",
    "            \"Developmental\"\n",
    "        }\n",
    "    }\n",
    "]"
   ]
  },
  {
   "cell_type": "code",
   "execution_count": 117,
   "metadata": {},
   "outputs": [],
   "source": [
    "editors = [\n",
    "    {\n",
    "        \"id\": \"EDI001\",\n",
    "        \"role\": \"faculty\",\n",
    "        \"categories\": {\n",
    "            \"Clinical\",\n",
    "            \"Developmental\"\n",
    "        },\n",
    "        \"capacity\": 3\n",
    "    },\n",
    "    {\n",
    "        \"id\": \"EDI002\",\n",
    "        \"role\": \"faculty\",\n",
    "        \"categories\": {\n",
    "            \"Affective\"\n",
    "        },\n",
    "        \"capacity\": 2\n",
    "    },\n",
    "    {\n",
    "        \"id\": \"EDI003\",\n",
    "        \"role\": \"faculty\",\n",
    "        \"categories\": {\n",
    "            \"Cognitive\",\n",
    "            \"Affective\"\n",
    "        },\n",
    "        \"capacity\": 15\n",
    "    },\n",
    "    {\n",
    "        \"id\": \"EDI004\",\n",
    "        \"role\": \"student\",\n",
    "        \"categories\": {\n",
    "            \"Clinical\",\n",
    "            \"Developmental\"\n",
    "        },\n",
    "        \"capacity\": 5\n",
    "    },\n",
    "    {\n",
    "        \"id\": \"EDI005\",\n",
    "        \"role\": \"student\",\n",
    "        \"categories\": {\n",
    "            \"Cognitive\",\n",
    "            \"Social\"\n",
    "        },\n",
    "        \"capacity\": 8\n",
    "    },\n",
    "        {\n",
    "        \"id\": \"EDI006\",\n",
    "        \"role\": \"student\",\n",
    "        \"categories\": {\n",
    "            \"Clinical\",\n",
    "            \"Developmental\"\n",
    "        },\n",
    "        \"capacity\": 5\n",
    "    }\n",
    "]"
   ]
  },
  {
   "cell_type": "code",
   "execution_count": 118,
   "metadata": {
    "scrolled": true
   },
   "outputs": [],
   "source": [
    "prioritized_applicants = asfpy.prioritize(applicants);"
   ]
  },
  {
   "cell_type": "code",
   "execution_count": 119,
   "metadata": {},
   "outputs": [],
   "source": [
    "faculty_editors = asfpy.editors_by_role(editors, \"faculty\")\n",
    "student_editors = asfpy.editors_by_role(editors, \"student\")"
   ]
  },
  {
   "cell_type": "code",
   "execution_count": 120,
   "metadata": {},
   "outputs": [
    {
     "data": {
      "text/plain": [
       "[{'id': 'EDI003',\n",
       "  'role': 'faculty',\n",
       "  'categories': {'Affective', 'Cognitive'},\n",
       "  'capacity': 15}]"
      ]
     },
     "execution_count": 120,
     "metadata": {},
     "output_type": "execute_result"
    }
   ],
   "source": [
    "asfpy.editors_by_categories(faculty_editors, {\"Cognitive\"})"
   ]
  },
  {
   "cell_type": "code",
   "execution_count": 121,
   "metadata": {},
   "outputs": [],
   "source": [
    "import operator\n",
    "\n",
    "def match(applicants, editors):\n",
    "    \n",
    "    matches = []\n",
    "    \n",
    "    for applicant in applicants:\n",
    "        \n",
    "        potential_editors = asfpy.editors_by_categories(editors, applicant[\"categories\"])\n",
    "        \n",
    "        if asfpy.capacity(potential_editors) == 0:\n",
    "        # If the editing capacity for an applicant is 0, continue to next applicant    \n",
    "            continue\n",
    "        else:\n",
    "            faculty_editors = asfpy.editors_by_role(potential_editors, \"faculty\")\n",
    "            student_editors = asfpy.editors_by_role(potential_editors, \"student\")\n",
    "        \n",
    "            if asfpy.capacity(faculty_editors) > 0:\n",
    "                \n",
    "                faculty_capacity = sorted([{\n",
    "                    \"capacity\": asfpy.capacity(asfpy.editors_by_categories(faculty_editors, {c})), \n",
    "                    \"category\": c\n",
    "                } for c in applicant[\"categories\"]], key = operator.itemgetter(\"capacity\"), reverse = True)\n",
    "                \n",
    "                # hc = highest capacity category given two options\n",
    "                hc = faculty_capacity[0][\"category\"]\n",
    "                \n",
    "                faculty_in_category = sorted(\n",
    "                    asfpy.editors_by_categories(faculty_editors, {hc}), \n",
    "                    key = operator.itemgetter(\"capacity\"),\n",
    "                    reverse = True\n",
    "                )\n",
    "                \n",
    "                faculty_id = faculty_in_category[0][\"id\"]\n",
    "                \n",
    "                matches.append({\n",
    "                    \"applicant\": applicant[\"id\"],\n",
    "                    \"faculty\": faculty_id\n",
    "                })\n",
    "                \n",
    "                for e in editors:\n",
    "                    if e[\"id\"] == faculty_id:\n",
    "                        e[\"capacity\"] -= 1\n",
    "                \n",
    "            if asfpy.capacity(student_editors) > 0:               \n",
    "                \n",
    "                pass\n",
    "            \n",
    "    return matches"
   ]
  },
  {
   "cell_type": "code",
   "execution_count": 126,
   "metadata": {},
   "outputs": [
    {
     "data": {
      "text/plain": [
       "[{'applicant': 'APP002', 'faculty': 'EDI003'},\n",
       " {'applicant': 'APP003', 'faculty': 'EDI003'}]"
      ]
     },
     "execution_count": 126,
     "metadata": {},
     "output_type": "execute_result"
    }
   ],
   "source": [
    "match(applicants, editors)"
   ]
  },
  {
   "cell_type": "code",
   "execution_count": 125,
   "metadata": {},
   "outputs": [
    {
     "data": {
      "text/plain": [
       "[{'id': 'EDI001',\n",
       "  'role': 'faculty',\n",
       "  'categories': {'Clinical', 'Developmental'},\n",
       "  'capacity': 0},\n",
       " {'id': 'EDI002',\n",
       "  'role': 'faculty',\n",
       "  'categories': {'Affective'},\n",
       "  'capacity': 2},\n",
       " {'id': 'EDI003',\n",
       "  'role': 'faculty',\n",
       "  'categories': {'Affective', 'Cognitive'},\n",
       "  'capacity': 13},\n",
       " {'id': 'EDI004',\n",
       "  'role': 'student',\n",
       "  'categories': {'Clinical', 'Developmental'},\n",
       "  'capacity': 5},\n",
       " {'id': 'EDI005',\n",
       "  'role': 'student',\n",
       "  'categories': {'Cognitive', 'Social'},\n",
       "  'capacity': 8},\n",
       " {'id': 'EDI006',\n",
       "  'role': 'student',\n",
       "  'categories': {'Clinical', 'Developmental'},\n",
       "  'capacity': 5}]"
      ]
     },
     "execution_count": 125,
     "metadata": {},
     "output_type": "execute_result"
    }
   ],
   "source": [
    "editors"
   ]
  },
  {
   "cell_type": "code",
   "execution_count": null,
   "metadata": {},
   "outputs": [],
   "source": []
  }
 ],
 "metadata": {
  "kernelspec": {
   "display_name": "Python 3",
   "language": "python",
   "name": "python3"
  },
  "language_info": {
   "codemirror_mode": {
    "name": "ipython",
    "version": 3
   },
   "file_extension": ".py",
   "mimetype": "text/x-python",
   "name": "python",
   "nbconvert_exporter": "python",
   "pygments_lexer": "ipython3",
   "version": "3.8.2"
  }
 },
 "nbformat": 4,
 "nbformat_minor": 4
}
